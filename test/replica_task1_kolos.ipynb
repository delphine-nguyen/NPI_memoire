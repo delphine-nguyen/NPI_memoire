{
 "cells": [
  {
   "attachments": {},
   "cell_type": "markdown",
   "metadata": {},
   "source": [
    "# Importation des modules"
   ]
  },
  {
   "cell_type": "code",
   "execution_count": 1,
   "metadata": {},
   "outputs": [
    {
     "name": "stderr",
     "output_type": "stream",
     "text": [
      "c:\\Users\\aengp\\Desktop\\memoire\\.venvMemoire\\lib\\site-packages\\tqdm\\auto.py:22: TqdmWarning: IProgress not found. Please update jupyter and ipywidgets. See https://ipywidgets.readthedocs.io/en/stable/user_install.html\n",
      "  from .autonotebook import tqdm as notebook_tqdm\n"
     ]
    }
   ],
   "source": [
    "import torch\n",
    "checkpoint = \"bert-base-uncased\"\n",
    "\n",
    "# Pré-traitement des données\n",
    "import csv\n",
    "import pandas as pd\n",
    "import datasets\n",
    "from transformers import DataCollatorForTokenClassification\n",
    "from transformers import BertTokenizerFast\n",
    "from sklearn.model_selection import train_test_split\n",
    "\n",
    "# Entraînement du classifieur\n",
    "from transformers import BertForTokenClassification\n",
    "from transformers import TrainingArguments, Trainer\n",
    "\n",
    "# Evaluation\n",
    "import numpy as np\n",
    "import seqeval"
   ]
  },
  {
   "attachments": {},
   "cell_type": "markdown",
   "metadata": {},
   "source": [
    "# Pre-processing"
   ]
  },
  {
   "attachments": {},
   "cell_type": "markdown",
   "metadata": {},
   "source": [
    "## Label encoding"
   ]
  },
  {
   "cell_type": "code",
   "execution_count": 2,
   "metadata": {},
   "outputs": [],
   "source": [
    "label2id = {\n",
    "    \"B-NPI\": 0,\n",
    "    \"I-NPI\": 1,\n",
    "    \"O\": 2\n",
    "}\n",
    "\n",
    "id2label = {\n",
    "    0: \"B-NPI\",\n",
    "    1: \"I-NPI\",\n",
    "    2: \"O\"\n",
    "}"
   ]
  },
  {
   "attachments": {},
   "cell_type": "markdown",
   "metadata": {},
   "source": [
    "## Importation des données"
   ]
  },
  {
   "cell_type": "code",
   "execution_count": 3,
   "metadata": {},
   "outputs": [],
   "source": [
    "raw_tokens = []\n",
    "labels = []\n",
    "\n",
    "with open(\"../data/fake_dataset.csv\") as csvfile:\n",
    "    \n",
    "    reader = csv.reader(csvfile, delimiter=\",\")\n",
    "    \n",
    "    temp_tokens = []\n",
    "    temp_labels = []\n",
    "    \n",
    "    next(reader) # Ignore première ligne (en-tête)\n",
    "    \n",
    "    for row in reader:\n",
    "        \n",
    "        if row == [\"#\", \"#\"]: # Nouvelle phrase\n",
    "            \n",
    "            # Ajout des listes tampon\n",
    "            raw_tokens.append(temp_tokens)\n",
    "            labels.append(temp_labels)\n",
    "            \n",
    "            # On vide les listes tampon\n",
    "            temp_tokens = []\n",
    "            temp_labels = []\n",
    "        \n",
    "        else:\n",
    "            temp_tokens.append(row[0])\n",
    "            temp_labels.append(label2id[row[1].strip()])\n",
    "            \n",
    "raw_tokens_train, raw_tokens_test, labels_train, labels_test = train_test_split(raw_tokens, labels, test_size=0.2)"
   ]
  },
  {
   "cell_type": "code",
   "execution_count": 4,
   "metadata": {},
   "outputs": [],
   "source": [
    "data_train = {\n",
    "    \"tokens\": raw_tokens_train,\n",
    "    \"labels\": labels_train\n",
    "}\n",
    "\n",
    "data_test = {\n",
    "    \"tokens\": raw_tokens_test,\n",
    "    \"labels\": labels_test\n",
    "}\n",
    "\n",
    "# Création d'un objet Dataset\n",
    "dataset = datasets.DatasetDict({\n",
    "    \"train\": datasets.Dataset.from_pandas(pd.DataFrame(data_train)),\n",
    "    \"test\": datasets.Dataset.from_pandas(pd.DataFrame(data_test))\n",
    "})"
   ]
  },
  {
   "cell_type": "code",
   "execution_count": 5,
   "metadata": {},
   "outputs": [
    {
     "data": {
      "text/plain": [
       "DatasetDict({\n",
       "    train: Dataset({\n",
       "        features: ['tokens', 'labels'],\n",
       "        num_rows: 8\n",
       "    })\n",
       "    test: Dataset({\n",
       "        features: ['tokens', 'labels'],\n",
       "        num_rows: 2\n",
       "    })\n",
       "})"
      ]
     },
     "execution_count": 5,
     "metadata": {},
     "output_type": "execute_result"
    }
   ],
   "source": [
    "dataset"
   ]
  },
  {
   "attachments": {},
   "cell_type": "markdown",
   "metadata": {},
   "source": [
    "## Mise en forme des données dans le bon format pour BERT"
   ]
  },
  {
   "cell_type": "code",
   "execution_count": 6,
   "metadata": {},
   "outputs": [],
   "source": [
    "# Création du tokenizer à partir du même checkpoint\n",
    "tokenizer = BertTokenizerFast.from_pretrained(checkpoint)\n",
    "\n",
    "data_collator = DataCollatorForTokenClassification(tokenizer=tokenizer)"
   ]
  },
  {
   "cell_type": "code",
   "execution_count": 7,
   "metadata": {},
   "outputs": [
    {
     "name": "stderr",
     "output_type": "stream",
     "text": [
      "                                                 \r"
     ]
    }
   ],
   "source": [
    "def shift_label(label):\n",
    "    # Transformation des B-NPI en I-NPI quand le token correspond à un subword\n",
    "    if label % 2 == 1:\n",
    "        label += 1\n",
    "    return label\n",
    "\n",
    "def align_labels_with_tokens(labels, word_ids):\n",
    "    new_labels = []\n",
    "    current_word = None\n",
    "    for word_id in word_ids:\n",
    "        if word_id is None:\n",
    "            new_labels.append(-100)\n",
    "        elif word_id != current_word:\n",
    "            current_word = word_id\n",
    "            new_labels.append(labels[word_id])\n",
    "        else:\n",
    "            new_labels.append(shift_label(labels[word_id]))\n",
    "    return new_labels\n",
    "\n",
    "def tokenize_and_align_labels(examples):\n",
    "    tokenized_inputs = tokenizer(examples[\"tokens\"],\n",
    "                                 truncation=True,\n",
    "                                 is_split_into_words=True)\n",
    "    new_labels = []\n",
    "    for i, labels in enumerate(examples[\"labels\"]):\n",
    "        word_ids = tokenized_inputs.word_ids(i)\n",
    "        new_labels.append(align_labels_with_tokens(labels, word_ids))\n",
    "    tokenized_inputs[\"labels\"] = new_labels\n",
    "    return tokenized_inputs\n",
    "\n",
    "processed_dataset = dataset.map(tokenize_and_align_labels, batched=True)"
   ]
  },
  {
   "attachments": {},
   "cell_type": "markdown",
   "metadata": {},
   "source": [
    "# Metrics"
   ]
  },
  {
   "cell_type": "code",
   "execution_count": 8,
   "metadata": {},
   "outputs": [],
   "source": [
    "label_list = label2id.keys()\n",
    "\n",
    "def compute_metrics(p):\n",
    "    predictions, labels = p\n",
    "    predictions = np.argmax(predictions, axis=2)\n",
    "\n",
    "    true_predictions = [\n",
    "        [label_list[p] for (p, l) in zip(prediction, label) if l != -100]\n",
    "        for prediction, label in zip(predictions, labels)\n",
    "    ]\n",
    "    true_labels = [\n",
    "        [label_list[l] for (p, l) in zip(prediction, label) if l != -100]\n",
    "        for prediction, label in zip(predictions, labels)\n",
    "    ]\n",
    "\n",
    "    results = seqeval.compute(predictions=true_predictions, references=true_labels)\n",
    "    return {\n",
    "        \"precision\": results[\"overall_precision\"],\n",
    "        \"recall\": results[\"overall_recall\"],\n",
    "        \"f1\": results[\"overall_f1\"],\n",
    "        \"accuracy\": results[\"overall_accuracy\"],\n",
    "    }"
   ]
  },
  {
   "attachments": {},
   "cell_type": "markdown",
   "metadata": {},
   "source": [
    "# Entraînement du classifieur"
   ]
  },
  {
   "cell_type": "code",
   "execution_count": 9,
   "metadata": {},
   "outputs": [
    {
     "name": "stderr",
     "output_type": "stream",
     "text": [
      "Some weights of the model checkpoint at bert-base-uncased were not used when initializing BertForTokenClassification: ['cls.seq_relationship.bias', 'cls.predictions.transform.dense.weight', 'cls.predictions.transform.LayerNorm.weight', 'cls.seq_relationship.weight', 'cls.predictions.transform.dense.bias', 'cls.predictions.transform.LayerNorm.bias', 'cls.predictions.bias', 'cls.predictions.decoder.weight']\n",
      "- This IS expected if you are initializing BertForTokenClassification from the checkpoint of a model trained on another task or with another architecture (e.g. initializing a BertForSequenceClassification model from a BertForPreTraining model).\n",
      "- This IS NOT expected if you are initializing BertForTokenClassification from the checkpoint of a model that you expect to be exactly identical (initializing a BertForSequenceClassification model from a BertForSequenceClassification model).\n",
      "Some weights of BertForTokenClassification were not initialized from the model checkpoint at bert-base-uncased and are newly initialized: ['classifier.bias', 'classifier.weight']\n",
      "You should probably TRAIN this model on a down-stream task to be able to use it for predictions and inference.\n"
     ]
    }
   ],
   "source": [
    "model = BertForTokenClassification.from_pretrained(checkpoint, \n",
    "                                                    num_labels=3,\n",
    "                                                    id2label=id2label, \n",
    "                                                    label2id=label2id)"
   ]
  },
  {
   "cell_type": "code",
   "execution_count": 12,
   "metadata": {},
   "outputs": [
    {
     "name": "stderr",
     "output_type": "stream",
     "text": [
      "PyTorch: setting up devices\n",
      "The default value for the training argument `--report_to` will change in v5 (from all installed integrations to none). In v5, you will need to use `--report_to all` to get the same behavior as now. You should start updating your code and make this info disappear :-).\n",
      "The following columns in the training set don't have a corresponding argument in `BertForTokenClassification.forward` and have been ignored: tokens. If tokens are not expected by `BertForTokenClassification.forward`,  you can safely ignore this message.\n",
      "c:\\Users\\aengp\\Desktop\\memoire\\.venvMemoire\\lib\\site-packages\\transformers\\optimization.py:306: FutureWarning: This implementation of AdamW is deprecated and will be removed in a future version. Use the PyTorch implementation torch.optim.AdamW instead, or set `no_deprecation_warning=True` to disable this warning\n",
      "  warnings.warn(\n",
      "***** Running training *****\n",
      "  Num examples = 8\n",
      "  Num Epochs = 10\n",
      "  Instantaneous batch size per device = 16\n",
      "  Total train batch size (w. parallel, distributed & accumulation) = 16\n",
      "  Gradient Accumulation steps = 1\n",
      "  Total optimization steps = 10\n",
      "  Number of trainable parameters = 108893955\n",
      " 10%|█         | 1/10 [00:01<00:12,  1.43s/it]The following columns in the evaluation set don't have a corresponding argument in `BertForTokenClassification.forward` and have been ignored: tokens. If tokens are not expected by `BertForTokenClassification.forward`,  you can safely ignore this message.\n",
      "***** Running Evaluation *****\n",
      "  Num examples = 2\n",
      "  Batch size = 16\n",
      "\n",
      " 10%|█         | 1/10 [00:01<00:12,  1.43s/it]Saving model checkpoint to npi_bio_model\\checkpoint-1\n",
      "Configuration saved in npi_bio_model\\checkpoint-1\\config.json\n"
     ]
    },
    {
     "name": "stdout",
     "output_type": "stream",
     "text": [
      "{'eval_loss': 0.8799149394035339, 'eval_runtime': 0.0479, 'eval_samples_per_second': 41.784, 'eval_steps_per_second': 20.892, 'epoch': 1.0}\n"
     ]
    },
    {
     "name": "stderr",
     "output_type": "stream",
     "text": [
      "Model weights saved in npi_bio_model\\checkpoint-1\\pytorch_model.bin\n",
      "tokenizer config file saved in npi_bio_model\\checkpoint-1\\tokenizer_config.json\n",
      "Special tokens file saved in npi_bio_model\\checkpoint-1\\special_tokens_map.json\n",
      " 20%|██        | 2/10 [00:03<00:15,  1.96s/it]The following columns in the evaluation set don't have a corresponding argument in `BertForTokenClassification.forward` and have been ignored: tokens. If tokens are not expected by `BertForTokenClassification.forward`,  you can safely ignore this message.\n",
      "***** Running Evaluation *****\n",
      "  Num examples = 2\n",
      "  Batch size = 16\n",
      "\n",
      " 20%|██        | 2/10 [00:03<00:15,  1.96s/it]Saving model checkpoint to npi_bio_model\\checkpoint-2\n",
      "Configuration saved in npi_bio_model\\checkpoint-2\\config.json\n"
     ]
    },
    {
     "name": "stdout",
     "output_type": "stream",
     "text": [
      "{'eval_loss': 0.7675561904907227, 'eval_runtime': 0.0497, 'eval_samples_per_second': 40.262, 'eval_steps_per_second': 20.131, 'epoch': 2.0}\n"
     ]
    },
    {
     "name": "stderr",
     "output_type": "stream",
     "text": [
      "Model weights saved in npi_bio_model\\checkpoint-2\\pytorch_model.bin\n",
      "tokenizer config file saved in npi_bio_model\\checkpoint-2\\tokenizer_config.json\n",
      "Special tokens file saved in npi_bio_model\\checkpoint-2\\special_tokens_map.json\n",
      " 30%|███       | 3/10 [00:06<00:15,  2.15s/it]The following columns in the evaluation set don't have a corresponding argument in `BertForTokenClassification.forward` and have been ignored: tokens. If tokens are not expected by `BertForTokenClassification.forward`,  you can safely ignore this message.\n",
      "***** Running Evaluation *****\n",
      "  Num examples = 2\n",
      "  Batch size = 16\n",
      "\n",
      " 30%|███       | 3/10 [00:06<00:15,  2.15s/it]Saving model checkpoint to npi_bio_model\\checkpoint-3\n",
      "Configuration saved in npi_bio_model\\checkpoint-3\\config.json\n"
     ]
    },
    {
     "name": "stdout",
     "output_type": "stream",
     "text": [
      "{'eval_loss': 0.6738592386245728, 'eval_runtime': 0.0501, 'eval_samples_per_second': 39.914, 'eval_steps_per_second': 19.957, 'epoch': 3.0}\n"
     ]
    },
    {
     "name": "stderr",
     "output_type": "stream",
     "text": [
      "Model weights saved in npi_bio_model\\checkpoint-3\\pytorch_model.bin\n",
      "tokenizer config file saved in npi_bio_model\\checkpoint-3\\tokenizer_config.json\n",
      "Special tokens file saved in npi_bio_model\\checkpoint-3\\special_tokens_map.json\n",
      " 40%|████      | 4/10 [00:08<00:13,  2.17s/it]The following columns in the evaluation set don't have a corresponding argument in `BertForTokenClassification.forward` and have been ignored: tokens. If tokens are not expected by `BertForTokenClassification.forward`,  you can safely ignore this message.\n",
      "***** Running Evaluation *****\n",
      "  Num examples = 2\n",
      "  Batch size = 16\n",
      "\n",
      " 40%|████      | 4/10 [00:08<00:13,  2.17s/it]Saving model checkpoint to npi_bio_model\\checkpoint-4\n",
      "Configuration saved in npi_bio_model\\checkpoint-4\\config.json\n"
     ]
    },
    {
     "name": "stdout",
     "output_type": "stream",
     "text": [
      "{'eval_loss': 0.5955406427383423, 'eval_runtime': 0.0457, 'eval_samples_per_second': 43.739, 'eval_steps_per_second': 21.869, 'epoch': 4.0}\n"
     ]
    },
    {
     "name": "stderr",
     "output_type": "stream",
     "text": [
      "Model weights saved in npi_bio_model\\checkpoint-4\\pytorch_model.bin\n",
      "tokenizer config file saved in npi_bio_model\\checkpoint-4\\tokenizer_config.json\n",
      "Special tokens file saved in npi_bio_model\\checkpoint-4\\special_tokens_map.json\n",
      " 50%|█████     | 5/10 [00:10<00:11,  2.21s/it]The following columns in the evaluation set don't have a corresponding argument in `BertForTokenClassification.forward` and have been ignored: tokens. If tokens are not expected by `BertForTokenClassification.forward`,  you can safely ignore this message.\n",
      "***** Running Evaluation *****\n",
      "  Num examples = 2\n",
      "  Batch size = 16\n",
      "\n",
      " 50%|█████     | 5/10 [00:10<00:11,  2.21s/it]Saving model checkpoint to npi_bio_model\\checkpoint-5\n",
      "Configuration saved in npi_bio_model\\checkpoint-5\\config.json\n"
     ]
    },
    {
     "name": "stdout",
     "output_type": "stream",
     "text": [
      "{'eval_loss': 0.5273100137710571, 'eval_runtime': 0.0426, 'eval_samples_per_second': 46.956, 'eval_steps_per_second': 23.478, 'epoch': 5.0}\n"
     ]
    },
    {
     "name": "stderr",
     "output_type": "stream",
     "text": [
      "Model weights saved in npi_bio_model\\checkpoint-5\\pytorch_model.bin\n",
      "tokenizer config file saved in npi_bio_model\\checkpoint-5\\tokenizer_config.json\n",
      "Special tokens file saved in npi_bio_model\\checkpoint-5\\special_tokens_map.json\n",
      " 60%|██████    | 6/10 [00:12<00:08,  2.21s/it]The following columns in the evaluation set don't have a corresponding argument in `BertForTokenClassification.forward` and have been ignored: tokens. If tokens are not expected by `BertForTokenClassification.forward`,  you can safely ignore this message.\n",
      "***** Running Evaluation *****\n",
      "  Num examples = 2\n",
      "  Batch size = 16\n",
      "\n",
      " 60%|██████    | 6/10 [00:12<00:08,  2.21s/it]Saving model checkpoint to npi_bio_model\\checkpoint-6\n",
      "Configuration saved in npi_bio_model\\checkpoint-6\\config.json\n"
     ]
    },
    {
     "name": "stdout",
     "output_type": "stream",
     "text": [
      "{'eval_loss': 0.47988927364349365, 'eval_runtime': 0.0445, 'eval_samples_per_second': 44.948, 'eval_steps_per_second': 22.474, 'epoch': 6.0}\n"
     ]
    },
    {
     "name": "stderr",
     "output_type": "stream",
     "text": [
      "Model weights saved in npi_bio_model\\checkpoint-6\\pytorch_model.bin\n",
      "tokenizer config file saved in npi_bio_model\\checkpoint-6\\tokenizer_config.json\n",
      "Special tokens file saved in npi_bio_model\\checkpoint-6\\special_tokens_map.json\n",
      " 70%|███████   | 7/10 [00:16<00:08,  2.84s/it]The following columns in the evaluation set don't have a corresponding argument in `BertForTokenClassification.forward` and have been ignored: tokens. If tokens are not expected by `BertForTokenClassification.forward`,  you can safely ignore this message.\n",
      "***** Running Evaluation *****\n",
      "  Num examples = 2\n",
      "  Batch size = 16\n",
      "\n",
      " 70%|███████   | 7/10 [00:17<00:08,  2.84s/it]Saving model checkpoint to npi_bio_model\\checkpoint-7\n",
      "Configuration saved in npi_bio_model\\checkpoint-7\\config.json\n"
     ]
    },
    {
     "name": "stdout",
     "output_type": "stream",
     "text": [
      "{'eval_loss': 0.45590975880622864, 'eval_runtime': 0.0669, 'eval_samples_per_second': 29.906, 'eval_steps_per_second': 14.953, 'epoch': 7.0}\n"
     ]
    },
    {
     "name": "stderr",
     "output_type": "stream",
     "text": [
      "Model weights saved in npi_bio_model\\checkpoint-7\\pytorch_model.bin\n",
      "tokenizer config file saved in npi_bio_model\\checkpoint-7\\tokenizer_config.json\n",
      "Special tokens file saved in npi_bio_model\\checkpoint-7\\special_tokens_map.json\n",
      " 80%|████████  | 8/10 [00:20<00:06,  3.13s/it]The following columns in the evaluation set don't have a corresponding argument in `BertForTokenClassification.forward` and have been ignored: tokens. If tokens are not expected by `BertForTokenClassification.forward`,  you can safely ignore this message.\n",
      "***** Running Evaluation *****\n",
      "  Num examples = 2\n",
      "  Batch size = 16\n",
      "\n",
      " 80%|████████  | 8/10 [00:20<00:06,  3.13s/it]Saving model checkpoint to npi_bio_model\\checkpoint-8\n",
      "Configuration saved in npi_bio_model\\checkpoint-8\\config.json\n"
     ]
    },
    {
     "name": "stdout",
     "output_type": "stream",
     "text": [
      "{'eval_loss': 0.44076138734817505, 'eval_runtime': 0.064, 'eval_samples_per_second': 31.249, 'eval_steps_per_second': 15.625, 'epoch': 8.0}\n"
     ]
    },
    {
     "name": "stderr",
     "output_type": "stream",
     "text": [
      "Model weights saved in npi_bio_model\\checkpoint-8\\pytorch_model.bin\n",
      "tokenizer config file saved in npi_bio_model\\checkpoint-8\\tokenizer_config.json\n",
      "Special tokens file saved in npi_bio_model\\checkpoint-8\\special_tokens_map.json\n",
      " 90%|█████████ | 9/10 [00:25<00:03,  3.50s/it]The following columns in the evaluation set don't have a corresponding argument in `BertForTokenClassification.forward` and have been ignored: tokens. If tokens are not expected by `BertForTokenClassification.forward`,  you can safely ignore this message.\n",
      "***** Running Evaluation *****\n",
      "  Num examples = 2\n",
      "  Batch size = 16\n",
      "\n",
      " 90%|█████████ | 9/10 [00:25<00:03,  3.50s/it]Saving model checkpoint to npi_bio_model\\checkpoint-9\n",
      "Configuration saved in npi_bio_model\\checkpoint-9\\config.json\n"
     ]
    },
    {
     "name": "stdout",
     "output_type": "stream",
     "text": [
      "{'eval_loss': 0.4324716627597809, 'eval_runtime': 0.0493, 'eval_samples_per_second': 40.529, 'eval_steps_per_second': 20.264, 'epoch': 9.0}\n"
     ]
    },
    {
     "name": "stderr",
     "output_type": "stream",
     "text": [
      "Model weights saved in npi_bio_model\\checkpoint-9\\pytorch_model.bin\n",
      "tokenizer config file saved in npi_bio_model\\checkpoint-9\\tokenizer_config.json\n",
      "Special tokens file saved in npi_bio_model\\checkpoint-9\\special_tokens_map.json\n",
      "100%|██████████| 10/10 [00:30<00:00,  4.01s/it]The following columns in the evaluation set don't have a corresponding argument in `BertForTokenClassification.forward` and have been ignored: tokens. If tokens are not expected by `BertForTokenClassification.forward`,  you can safely ignore this message.\n",
      "***** Running Evaluation *****\n",
      "  Num examples = 2\n",
      "  Batch size = 16\n",
      "\n",
      "100%|██████████| 10/10 [00:30<00:00,  4.01s/it]Saving model checkpoint to npi_bio_model\\checkpoint-10\n",
      "Configuration saved in npi_bio_model\\checkpoint-10\\config.json\n"
     ]
    },
    {
     "name": "stdout",
     "output_type": "stream",
     "text": [
      "{'eval_loss': 0.42870035767555237, 'eval_runtime': 0.0449, 'eval_samples_per_second': 44.499, 'eval_steps_per_second': 22.25, 'epoch': 10.0}\n"
     ]
    },
    {
     "name": "stderr",
     "output_type": "stream",
     "text": [
      "Model weights saved in npi_bio_model\\checkpoint-10\\pytorch_model.bin\n",
      "tokenizer config file saved in npi_bio_model\\checkpoint-10\\tokenizer_config.json\n",
      "Special tokens file saved in npi_bio_model\\checkpoint-10\\special_tokens_map.json\n",
      "\n",
      "\n",
      "Training completed. Do not forget to share your model on huggingface.co/models =)\n",
      "\n",
      "\n",
      "Loading best model from npi_bio_model\\checkpoint-10 (score: 0.42870035767555237).\n",
      "100%|██████████| 10/10 [00:34<00:00,  3.40s/it]"
     ]
    },
    {
     "name": "stdout",
     "output_type": "stream",
     "text": [
      "{'train_runtime': 34.088, 'train_samples_per_second': 2.347, 'train_steps_per_second': 0.293, 'train_loss': 0.47608723640441897, 'epoch': 10.0}\n"
     ]
    },
    {
     "name": "stderr",
     "output_type": "stream",
     "text": [
      "\n"
     ]
    },
    {
     "data": {
      "text/plain": [
       "TrainOutput(global_step=10, training_loss=0.47608723640441897, metrics={'train_runtime': 34.088, 'train_samples_per_second': 2.347, 'train_steps_per_second': 0.293, 'train_loss': 0.47608723640441897, 'epoch': 10.0})"
      ]
     },
     "execution_count": 12,
     "metadata": {},
     "output_type": "execute_result"
    }
   ],
   "source": [
    "training_args = TrainingArguments(\n",
    "    output_dir=\"npi_bio_model\",\n",
    "    learning_rate=2e-5,\n",
    "    per_device_train_batch_size=16,\n",
    "    per_device_eval_batch_size=16,\n",
    "    num_train_epochs=10,\n",
    "    weight_decay=0.01,\n",
    "    evaluation_strategy=\"epoch\",\n",
    "    save_strategy=\"epoch\",\n",
    "    load_best_model_at_end=True,\n",
    "    push_to_hub=True\n",
    ")\n",
    "\n",
    "trainer = Trainer(\n",
    "    model=model,\n",
    "    args=training_args,\n",
    "    train_dataset=processed_dataset[\"train\"],\n",
    "    eval_dataset=processed_dataset[\"test\"],\n",
    "    tokenizer=tokenizer,\n",
    "    data_collator=data_collator,\n",
    "    # compute_metrics=compute_metrics,\n",
    "    push\n",
    ")\n",
    "\n",
    "trainer.train()"
   ]
  }
 ],
 "metadata": {
  "kernelspec": {
   "display_name": ".venvMemoire",
   "language": "python",
   "name": "python3"
  },
  "language_info": {
   "codemirror_mode": {
    "name": "ipython",
    "version": 3
   },
   "file_extension": ".py",
   "mimetype": "text/x-python",
   "name": "python",
   "nbconvert_exporter": "python",
   "pygments_lexer": "ipython3",
   "version": "3.10.10"
  },
  "orig_nbformat": 4,
  "vscode": {
   "interpreter": {
    "hash": "39002e7d175a3b46ac49ee1070e80e806334a8911058f9756deae5d8e0ecee95"
   }
  }
 },
 "nbformat": 4,
 "nbformat_minor": 2
}
